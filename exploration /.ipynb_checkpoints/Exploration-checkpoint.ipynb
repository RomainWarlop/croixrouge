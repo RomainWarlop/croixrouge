{
 "metadata": {
  "name": "",
  "signature": "sha256:bcb29d9446108e28f663e7985ba6da30a7d0591c7165bd5a2c702ad0eb4472e0"
 },
 "nbformat": 3,
 "nbformat_minor": 0,
 "worksheets": [
  {
   "cells": [
    {
     "cell_type": "heading",
     "level": 1,
     "metadata": {},
     "source": [
      "Croix Rouge FR // Data For Good"
     ]
    },
    {
     "cell_type": "code",
     "collapsed": false,
     "input": [
      "import pandas as pd\n",
      "import db\n",
      "from db import DB\n",
      "from datetime import datetime\n",
      "import scipy\n",
      "import numpy as np"
     ],
     "language": "python",
     "metadata": {},
     "outputs": [],
     "prompt_number": 1
    },
    {
     "cell_type": "code",
     "collapsed": false,
     "input": [
      "import matplotlib\n",
      "%matplotlib inline\n",
      "\n",
      "pd.options.display.mpl_style = 'default'"
     ],
     "language": "python",
     "metadata": {},
     "outputs": [],
     "prompt_number": 2
    },
    {
     "cell_type": "code",
     "collapsed": false,
     "input": [
      "db = DB(username=\"martin\", hostname=\"localhost\",dbname=\"redcross\",dbtype=\"mysql\")"
     ],
     "language": "python",
     "metadata": {},
     "outputs": [
      {
       "output_type": "stream",
       "stream": "stderr",
       "text": [
        "Refreshing schema. Please wait...done!\n"
       ]
      }
     ],
     "prompt_number": 4
    },
    {
     "cell_type": "heading",
     "level": 2,
     "metadata": {},
     "source": [
      "Cr\u00e9ation des dataframes "
     ]
    },
    {
     "cell_type": "code",
     "collapsed": false,
     "input": [
      "stocks = pd.DataFrame(db.query(\"SELECT * FROM STO_FOUR_ORI\"))"
     ],
     "language": "python",
     "metadata": {},
     "outputs": [],
     "prompt_number": 5
    },
    {
     "cell_type": "code",
     "collapsed": false,
     "input": [
      "entrepot_corr = pd.DataFrame(db.query(\"SELECT * FROM DIM_U2A\"))"
     ],
     "language": "python",
     "metadata": {},
     "outputs": [],
     "prompt_number": 6
    },
    {
     "cell_type": "code",
     "collapsed": false,
     "input": [
      "fam_ss_art = pd.DataFrame(db.query(\"SELECT * FROM DIM_SS_FAM_ART\"))"
     ],
     "language": "python",
     "metadata": {},
     "outputs": [],
     "prompt_number": 7
    },
    {
     "cell_type": "code",
     "collapsed": false,
     "input": [
      "stocks2 = pd.merge(stocks,entrepot_corr)"
     ],
     "language": "python",
     "metadata": {},
     "outputs": [],
     "prompt_number": 8
    },
    {
     "cell_type": "code",
     "collapsed": false,
     "input": [
      "stocks2 = pd.merge(stocks2,fam_ss_art)"
     ],
     "language": "python",
     "metadata": {},
     "outputs": [],
     "prompt_number": 9
    },
    {
     "cell_type": "code",
     "collapsed": false,
     "input": [
      "stocks2 = stocks2.set_index(pd.to_datetime(stocks2[\"ID_MOIS\"],format=\"%Y%m\"))"
     ],
     "language": "python",
     "metadata": {},
     "outputs": [],
     "prompt_number": 10
    },
    {
     "cell_type": "code",
     "collapsed": false,
     "input": [],
     "language": "python",
     "metadata": {},
     "outputs": []
    },
    {
     "cell_type": "code",
     "collapsed": false,
     "input": [
      "stocks2[stocks2['POIDS_NET'] < 100]['POIDS_NET'].hist(bins=30)"
     ],
     "language": "python",
     "metadata": {},
     "outputs": [
      {
       "metadata": {},
       "output_type": "pyout",
       "prompt_number": 340,
       "text": [
        "<matplotlib.axes.AxesSubplot at 0x1196d3b10>"
       ]
      },
      {
       "metadata": {},
       "output_type": "display_data",
       "png": "[encoded data removed]",
       "text": [
        "<matplotlib.figure.Figure at 0x111a07790>"
       ]
      }
     ],
     "prompt_number": 340
    },
    {
     "cell_type": "heading",
     "level": 2,
     "metadata": {},
     "source": [
      "Supprimer les outliers"
     ]
    },
    {
     "cell_type": "code",
     "collapsed": false,
     "input": [
      "from scipy import stats\n",
      "df[(np.abs(stats.zscore()) < 3).all(axis=1)]"
     ],
     "language": "python",
     "metadata": {},
     "outputs": [],
     "prompt_number": 449
    },
    {
     "cell_type": "code",
     "collapsed": false,
     "input": [
      "stocks2[np.abs(stats.zscore(stocks2['POIDS_NET']) < 3)].count()"
     ],
     "language": "python",
     "metadata": {},
     "outputs": [
      {
       "metadata": {},
       "output_type": "pyout",
       "prompt_number": 468,
       "text": [
        "ID_MOIS           417378\n",
        "CD_U2A            417378\n",
        "CD_ORI_RECPT      417378\n",
        "CD_FOUR           417378\n",
        "CD_UNITE          417378\n",
        "CD_LIG_ART        417378\n",
        "CD_SUR_FAM_ART    417378\n",
        "CD_FAM_ART        417378\n",
        "CD_SS_FAM_ART     417378\n",
        "POIDS_NET         417378\n",
        "QTE_NETTE         417378\n",
        "LB_U2A            417378\n",
        "CD_STR            417378\n",
        "CD_DEPT           417377\n",
        "LB_DEPT           416222\n",
        "CD_REGION         416222\n",
        "LB_REGION         416222\n",
        "LB_SS_FAM_ART     417378\n",
        "dtype: int64"
       ]
      }
     ],
     "prompt_number": 468
    },
    {
     "cell_type": "code",
     "collapsed": false,
     "input": [
      "stocks2.count()"
     ],
     "language": "python",
     "metadata": {},
     "outputs": [
      {
       "metadata": {},
       "output_type": "pyout",
       "prompt_number": 465,
       "text": [
        "ID_MOIS           417404\n",
        "CD_U2A            417404\n",
        "CD_ORI_RECPT      417404\n",
        "CD_FOUR           417404\n",
        "CD_UNITE          417404\n",
        "CD_LIG_ART        417404\n",
        "CD_SUR_FAM_ART    417404\n",
        "CD_FAM_ART        417404\n",
        "CD_SS_FAM_ART     417404\n",
        "POIDS_NET         417404\n",
        "QTE_NETTE         417404\n",
        "LB_U2A            417404\n",
        "CD_STR            417404\n",
        "CD_DEPT           417403\n",
        "LB_DEPT           416248\n",
        "CD_REGION         416248\n",
        "LB_REGION         416248\n",
        "LB_SS_FAM_ART     417404\n",
        "dtype: int64"
       ]
      }
     ],
     "prompt_number": 465
    },
    {
     "cell_type": "code",
     "collapsed": false,
     "input": [
      "stock3 = stocks2[stock_bool]"
     ],
     "language": "python",
     "metadata": {},
     "outputs": [
      {
       "output_type": "stream",
       "stream": "stdout",
       "text": [
        "Traceback (most recent call last):\n",
        "  File \"/Library/Python/2.7/site-packages/IPython/core/ultratb.py\", line 776, in structured_traceback\n",
        "    records = _fixed_getinnerframes(etb, context, tb_offset)\n",
        "  File \"/Library/Python/2.7/site-packages/IPython/core/ultratb.py\", line 230, in wrapped\n",
        "    return f(*args, **kwargs)\n",
        "  File \"/Library/Python/2.7/site-packages/IPython/core/ultratb.py\", line 259, in _fixed_getinnerframes\n",
        "    records  = fix_frame_records_filenames(inspect.getinnerframes(etb, context))\n",
        "  File \"/System/Library/Frameworks/Python.framework/Versions/2.7/lib/python2.7/inspect.py\", line 1044, in getinnerframes\n",
        "    framelist.append((tb.tb_frame,) + getframeinfo(tb, context))\n",
        "  File \"/System/Library/Frameworks/Python.framework/Versions/2.7/lib/python2.7/inspect.py\", line 1008, in getframeinfo\n",
        "    lines, lnum = findsource(frame)\n",
        "  File \"/Library/Python/2.7/site-packages/IPython/core/ultratb.py\", line 217, in findsource\n",
        "    if pmatch(lines[lnum]): break\n",
        "KeyboardInterrupt\n"
       ]
      },
      {
       "output_type": "stream",
       "stream": "stderr",
       "text": [
        "ERROR: Internal Python error in the inspect module.\n",
        "Below is the traceback from this internal error.\n",
        "\n",
        "\n",
        "Unfortunately, your original traceback can not be constructed.\n",
        "\n"
       ]
      },
      {
       "ename": "KeyboardInterrupt",
       "evalue": "",
       "output_type": "pyerr",
       "traceback": ""
      },
      {
       "ename": "KeyboardInterrupt",
       "evalue": "",
       "output_type": "pyerr",
       "traceback": [
        "Traceback (most recent call last):\n",
        "  File \"/Library/Python/2.7/site-packages/IPython/kernel/zmq/ipkernel.py\", line 389, in execute_request\n    shell.run_cell(code, store_history=store_history, silent=silent)\n",
        "  File \"/Library/Python/2.7/site-packages/IPython/core/interactiveshell.py\", line 2743, in run_cell\n    self.events.trigger('post_execute')\n",
        "  File \"/Library/Python/2.7/site-packages/IPython/core/events.py\", line 82, in trigger\n    func(*args, **kwargs)\n",
        "  File \"/Library/Python/2.7/site-packages/IPython/kernel/zmq/pylab/backend_inline.py\", line 118, in flush_figures\n    return show(True)\n",
        "  File \"/Library/Python/2.7/site-packages/IPython/kernel/zmq/pylab/backend_inline.py\", line 47, in show\n    matplotlib.pyplot.close('all')\n",
        "  File \"/System/Library/Frameworks/Python.framework/Versions/2.7/Extras/lib/python/matplotlib/pyplot.py\", line 511, in close\n    _pylab_helpers.Gcf.destroy_all()\n",
        "  File \"/System/Library/Frameworks/Python.framework/Versions/2.7/Extras/lib/python/matplotlib/_pylab_helpers.py\", line 90, in destroy_all\n    gc.collect()\n",
        "KeyboardInterrupt\n"
       ]
      }
     ],
     "prompt_number": 462
    },
    {
     "cell_type": "code",
     "collapsed": false,
     "input": [
      "stocks2.sort('QTE_NETTE',ascending=False)[['ID_MOIS','LB_U2A','CD_SUR_FAM_ART','POIDS_NET','QTE_NETTE']].head(4)"
     ],
     "language": "python",
     "metadata": {},
     "outputs": [
      {
       "html": [
        "<div style=\"max-height:1000px;max-width:1500px;overflow:auto;\">\n",
        "<table border=\"1\" class=\"dataframe\">\n",
        "  <thead>\n",
        "    <tr style=\"text-align: right;\">\n",
        "      <th></th>\n",
        "      <th>ID_MOIS</th>\n",
        "      <th>LB_U2A</th>\n",
        "      <th>CD_SUR_FAM_ART</th>\n",
        "      <th>POIDS_NET</th>\n",
        "      <th>QTE_NETTE</th>\n",
        "    </tr>\n",
        "    <tr>\n",
        "      <th>ID_MOIS</th>\n",
        "      <th></th>\n",
        "      <th></th>\n",
        "      <th></th>\n",
        "      <th></th>\n",
        "      <th></th>\n",
        "    </tr>\n",
        "  </thead>\n",
        "  <tbody>\n",
        "    <tr>\n",
        "      <th>2011-11-01</th>\n",
        "      <td> 201111</td>\n",
        "      <td> Epicerie sociale de St Maixent-l'\u00c9cole</td>\n",
        "      <td> FEC</td>\n",
        "      <td> 2.416330e+14</td>\n",
        "      <td> 4.832650e+14</td>\n",
        "    </tr>\n",
        "    <tr>\n",
        "      <th>2012-01-01</th>\n",
        "      <td> 201201</td>\n",
        "      <td>       Centre distribution Pont de Vaux</td>\n",
        "      <td> FEC</td>\n",
        "      <td> 1.798820e+14</td>\n",
        "      <td> 2.430840e+14</td>\n",
        "    </tr>\n",
        "    <tr>\n",
        "      <th>2012-02-01</th>\n",
        "      <td> 201202</td>\n",
        "      <td>          Centre distribution de Lyon 6</td>\n",
        "      <td> PGS</td>\n",
        "      <td> 5.490530e+13</td>\n",
        "      <td> 1.830180e+14</td>\n",
        "    </tr>\n",
        "    <tr>\n",
        "      <th>2011-04-01</th>\n",
        "      <td> 201104</td>\n",
        "      <td>       Centre de distribution de Limoux</td>\n",
        "      <td>  FL</td>\n",
        "      <td> 9.841420e+13</td>\n",
        "      <td> 1.230180e+14</td>\n",
        "    </tr>\n",
        "  </tbody>\n",
        "</table>\n",
        "</div>"
       ],
       "metadata": {},
       "output_type": "pyout",
       "prompt_number": 322,
       "text": [
        "            ID_MOIS                                  LB_U2A CD_SUR_FAM_ART  \\\n",
        "ID_MOIS                                                                      \n",
        "2011-11-01   201111  Epicerie sociale de St Maixent-l'\u00c9cole            FEC   \n",
        "2012-01-01   201201        Centre distribution Pont de Vaux            FEC   \n",
        "2012-02-01   201202           Centre distribution de Lyon 6            PGS   \n",
        "2011-04-01   201104        Centre de distribution de Limoux             FL   \n",
        "\n",
        "               POIDS_NET     QTE_NETTE  \n",
        "ID_MOIS                                 \n",
        "2011-11-01  2.416330e+14  4.832650e+14  \n",
        "2012-01-01  1.798820e+14  2.430840e+14  \n",
        "2012-02-01  5.490530e+13  1.830180e+14  \n",
        "2011-04-01  9.841420e+13  1.230180e+14  "
       ]
      }
     ],
     "prompt_number": 322
    },
    {
     "cell_type": "code",
     "collapsed": false,
     "input": [
      "db.query(\"SELECT ID_MOIS,count(*) FROM ART_DIS_FAMILLE group by ID_MOIS\")"
     ],
     "language": "python",
     "metadata": {},
     "outputs": [
      {
       "html": [
        "<div style=\"max-height:1000px;max-width:1500px;overflow:auto;\">\n",
        "<table border=\"1\" class=\"dataframe\">\n",
        "  <thead>\n",
        "    <tr style=\"text-align: right;\">\n",
        "      <th></th>\n",
        "      <th>ID_MOIS</th>\n",
        "      <th>count(*)</th>\n",
        "    </tr>\n",
        "  </thead>\n",
        "  <tbody>\n",
        "    <tr>\n",
        "      <th>0</th>\n",
        "      <td> 201412</td>\n",
        "      <td> 4963</td>\n",
        "    </tr>\n",
        "    <tr>\n",
        "      <th>1</th>\n",
        "      <td> 201501</td>\n",
        "      <td> 5069</td>\n",
        "    </tr>\n",
        "    <tr>\n",
        "      <th>2</th>\n",
        "      <td> 201502</td>\n",
        "      <td> 5101</td>\n",
        "    </tr>\n",
        "    <tr>\n",
        "      <th>3</th>\n",
        "      <td> 201503</td>\n",
        "      <td> 5389</td>\n",
        "    </tr>\n",
        "  </tbody>\n",
        "</table>\n",
        "</div>"
       ],
       "metadata": {},
       "output_type": "pyout",
       "prompt_number": 140,
       "text": [
        "   ID_MOIS  count(*)\n",
        "0   201412      4963\n",
        "1   201501      5069\n",
        "2   201502      5101\n",
        "3   201503      5389"
       ]
      }
     ],
     "prompt_number": 140
    },
    {
     "cell_type": "code",
     "collapsed": false,
     "input": [
      "db.query(\"SELECT * FROM STO_FOUR_ORI WHERE CD_U2A = 'U7902' AND ID_MOIS = '201111' AND CD_SS_FAM_ART = 'SML'\")"
     ],
     "language": "python",
     "metadata": {},
     "outputs": [
      {
       "html": [
        "<div style=\"max-height:1000px;max-width:1500px;overflow:auto;\">\n",
        "<table border=\"1\" class=\"dataframe\">\n",
        "  <thead>\n",
        "    <tr style=\"text-align: right;\">\n",
        "      <th></th>\n",
        "      <th>ID_MOIS</th>\n",
        "      <th>CD_U2A</th>\n",
        "      <th>CD_ORI_RECPT</th>\n",
        "      <th>CD_FOUR</th>\n",
        "      <th>CD_UNITE</th>\n",
        "      <th>CD_LIG_ART</th>\n",
        "      <th>CD_SUR_FAM_ART</th>\n",
        "      <th>CD_FAM_ART</th>\n",
        "      <th>CD_SS_FAM_ART</th>\n",
        "      <th>POIDS_NET</th>\n",
        "      <th>QTE_NETTE</th>\n",
        "    </tr>\n",
        "  </thead>\n",
        "  <tbody>\n",
        "    <tr>\n",
        "      <th>0</th>\n",
        "      <td> 201111</td>\n",
        "      <td> U7902</td>\n",
        "      <td> ACHAT MAG</td>\n",
        "      <td> FFFBA0079</td>\n",
        "      <td> UN</td>\n",
        "      <td> ALI</td>\n",
        "      <td> FEC</td>\n",
        "      <td> FER</td>\n",
        "      <td> SML</td>\n",
        "      <td> 2.416330e+14</td>\n",
        "      <td> 4.832650e+14</td>\n",
        "    </tr>\n",
        "  </tbody>\n",
        "</table>\n",
        "</div>"
       ],
       "metadata": {},
       "output_type": "pyout",
       "prompt_number": 128,
       "text": [
        "   ID_MOIS CD_U2A CD_ORI_RECPT    CD_FOUR CD_UNITE CD_LIG_ART CD_SUR_FAM_ART  \\\n",
        "0   201111  U7902    ACHAT MAG  FFFBA0079       UN        ALI            FEC   \n",
        "\n",
        "  CD_FAM_ART CD_SS_FAM_ART     POIDS_NET     QTE_NETTE  \n",
        "0        FER           SML  2.416330e+14  4.832650e+14  "
       ]
      }
     ],
     "prompt_number": 128
    },
    {
     "cell_type": "code",
     "collapsed": false,
     "input": [
      "print stocks2['2011']['POIDS_NET'].mean()\n",
      "print stocks2['2012']['POIDS_NET'].mean()\n",
      "print stocks2['2013']['POIDS_NET'].mean()\n",
      "print stocks2['2014']['POIDS_NET'].mean()"
     ],
     "language": "python",
     "metadata": {},
     "outputs": [
      {
       "output_type": "stream",
       "stream": "stdout",
       "text": [
        "14013280292.0\n",
        "2784618985.1"
       ]
      },
      {
       "output_type": "stream",
       "stream": "stdout",
       "text": [
        "\n",
        "84.3395341644"
       ]
      },
      {
       "output_type": "stream",
       "stream": "stdout",
       "text": [
        "\n",
        "86.337113011"
       ]
      },
      {
       "output_type": "stream",
       "stream": "stdout",
       "text": [
        "\n"
       ]
      }
     ],
     "prompt_number": 411
    },
    {
     "cell_type": "code",
     "collapsed": false,
     "input": [
      "stocks2[['CD_U2A','POIDS_NET','QTE_NETTE']]['2011-06'].plot(kind='scatter',x='POIDS_NET',y='QTE_NETTE')"
     ],
     "language": "python",
     "metadata": {},
     "outputs": [
      {
       "metadata": {},
       "output_type": "pyout",
       "prompt_number": 444,
       "text": [
        "<matplotlib.axes.AxesSubplot at 0x110d0d490>"
       ]
      },
      {
       "metadata": {},
       "output_type": "display_data",
       "png": "[encoded data removed]",
       "text": [
        "<matplotlib.figure.Figure at 0x110d922d0>"
       ]
      }
     ],
     "prompt_number": 444
    },
    {
     "cell_type": "code",
     "collapsed": false,
     "input": [
      "stocks2[stocks2['CD_SS_FAM_ART'] == 'PAT']['2013':'2014']['QTE_NETTE'].mean()"
     ],
     "language": "python",
     "metadata": {},
     "outputs": [
      {
       "metadata": {},
       "output_type": "pyout",
       "prompt_number": 433,
       "text": [
        "211.37561008134418"
       ]
      }
     ],
     "prompt_number": 433
    },
    {
     "cell_type": "code",
     "collapsed": false,
     "input": [
      "stocks2['POIDS_NET']."
     ],
     "language": "python",
     "metadata": {},
     "outputs": [
      {
       "output_type": "stream",
       "stream": "stdout",
       "text": [
        "Object `pd.plot` not found.\n"
       ]
      }
     ],
     "prompt_number": 352
    },
    {
     "cell_type": "code",
     "collapsed": false,
     "input": [
      "stock_u203.groupby(\"LB_SS_FAM_ART\").size().order(ascending=False)"
     ],
     "language": "python",
     "metadata": {},
     "outputs": [
      {
       "metadata": {},
       "output_type": "pyout",
       "prompt_number": 81,
       "text": [
        "LB_SS_FAM_ART\n",
        "Conserves de legumes              225\n",
        "Patisserie                        224\n",
        "Biscuits                          204\n",
        "Confiserie                        203\n",
        "Plats viandes                     201\n",
        "Pates                             200\n",
        "Cereale petit dejeuner suc/cho    194\n",
        "Ravioli                           191\n",
        "Compotes                          191\n",
        "Parfumerie                        188\n",
        "Riz sauf riz cpt                  185\n",
        "Panification non cpt cere         184\n",
        "Laits longue conservation         184\n",
        "Plats feculents raffines          183\n",
        "Desserts                          180\n",
        "...\n",
        "Fruits oleagineux non sales      13\n",
        "Feculents non raffines frais     12\n",
        "Aides a la patisserie pdt nal     9\n",
        "Sauce soja                        8\n",
        "Caramels                          5\n",
        "Soupes fec non raffine            4\n",
        "Biere                             4\n",
        "Stylos                            3\n",
        "Autre fourniture                  2\n",
        "Souffles                          2\n",
        "Graisse a frire                   2\n",
        "Cap                               1\n",
        "Saindoux                          1\n",
        "Vin tranquille                    1\n",
        "Cahiers                           1\n",
        "Length: 139, dtype: int64"
       ]
      }
     ],
     "prompt_number": 81
    },
    {
     "cell_type": "code",
     "collapsed": false,
     "input": [
      "db.query('select * from DIM_SS_FAM_ART LIMIT 10')"
     ],
     "language": "python",
     "metadata": {},
     "outputs": [
      {
       "html": [
        "<div style=\"max-height:1000px;max-width:1500px;overflow:auto;\">\n",
        "<table border=\"1\" class=\"dataframe\">\n",
        "  <thead>\n",
        "    <tr style=\"text-align: right;\">\n",
        "      <th></th>\n",
        "      <th>CD_SS_FAM_ART</th>\n",
        "      <th>LB_SS_FAM_ART</th>\n",
        "    </tr>\n",
        "  </thead>\n",
        "  <tbody>\n",
        "    <tr>\n",
        "      <th>0</th>\n",
        "      <td> ACM</td>\n",
        "      <td>             Autres condiments</td>\n",
        "    </tr>\n",
        "    <tr>\n",
        "      <th>1</th>\n",
        "      <td> ADB</td>\n",
        "      <td>                Adh\u00e9sif bureau</td>\n",
        "    </tr>\n",
        "    <tr>\n",
        "      <th>2</th>\n",
        "      <td> AES</td>\n",
        "      <td>            Autres pdt suc sal</td>\n",
        "    </tr>\n",
        "    <tr>\n",
        "      <th>3</th>\n",
        "      <td> AFE</td>\n",
        "      <td>                       Agraphe</td>\n",
        "    </tr>\n",
        "    <tr>\n",
        "      <th>4</th>\n",
        "      <td> AFN</td>\n",
        "      <td>              Autre fourniture</td>\n",
        "    </tr>\n",
        "    <tr>\n",
        "      <th>5</th>\n",
        "      <td> AGE</td>\n",
        "      <td>         Autres grains entiers</td>\n",
        "    </tr>\n",
        "    <tr>\n",
        "      <th>6</th>\n",
        "      <td> AGR</td>\n",
        "      <td>                    Agrapheuse</td>\n",
        "    </tr>\n",
        "    <tr>\n",
        "      <th>7</th>\n",
        "      <td> ALC</td>\n",
        "      <td>                        Alcool</td>\n",
        "    </tr>\n",
        "    <tr>\n",
        "      <th>8</th>\n",
        "      <td> ALP</td>\n",
        "      <td> Aides a la patisserie pdt nal</td>\n",
        "    </tr>\n",
        "    <tr>\n",
        "      <th>9</th>\n",
        "      <td> AOC</td>\n",
        "      <td>             Autres outils cus</td>\n",
        "    </tr>\n",
        "  </tbody>\n",
        "</table>\n",
        "</div>"
       ],
       "metadata": {},
       "output_type": "pyout",
       "prompt_number": 75,
       "text": [
        "  CD_SS_FAM_ART                  LB_SS_FAM_ART\n",
        "0           ACM              Autres condiments\n",
        "1           ADB                 Adh\u00e9sif bureau\n",
        "2           AES             Autres pdt suc sal\n",
        "3           AFE                        Agraphe\n",
        "4           AFN               Autre fourniture\n",
        "5           AGE          Autres grains entiers\n",
        "6           AGR                     Agrapheuse\n",
        "7           ALC                         Alcool\n",
        "8           ALP  Aides a la patisserie pdt nal\n",
        "9           AOC              Autres outils cus"
       ]
      }
     ],
     "prompt_number": 75
    },
    {
     "cell_type": "code",
     "collapsed": false,
     "input": [
      "db.find_coluln"
     ],
     "language": "python",
     "metadata": {},
     "outputs": []
    }
   ],
   "metadata": {}
  }
 ]
}